{
 "cells": [
  {
   "cell_type": "code",
   "execution_count": 1,
   "metadata": {},
   "outputs": [],
   "source": [
    "import random"
   ]
  },
  {
   "cell_type": "code",
   "execution_count": 2,
   "metadata": {},
   "outputs": [],
   "source": [
    "# S: Search , rA : runAlice , mA : meetAlice , fA : fightAlice , D : Draw , W : Won , L : Lost\n",
    "Q = ['S' , 'rA' , 'rJ' , 'rF' , 'mA' , 'mJ', 'mF' , 'fA' ,'fJ' , 'fF' , 'D' , 'W' , 'L']\n",
    "A = [  'D' , 'W' , 'L' ]\n",
    "q_0 ='S'\n"
   ]
  },
  {
   "cell_type": "code",
   "execution_count": 3,
   "metadata": {},
   "outputs": [
    {
     "name": "stdin",
     "output_type": "stream",
     "text": [
      " give number :  5\n"
     ]
    },
    {
     "name": "stdout",
     "output_type": "stream",
     "text": [
      "================================================================================\n",
      "Simulation\n",
      "I am searching for enemy\n",
      "I found Alice\n",
      "I fight against Alice\n",
      "I lost\n"
     ]
    }
   ],
   "source": [
    "transitions = { 'S':{'states': ['mA', 'mJ' , 'mF', 'S'], 'probs': [0.2, 0.5,0.1,0.2]},\n",
    "                'mA':{'states': ['rA' , 'fA'], 'probs': [0.3, 0.7]},\n",
    "                'mJ':{'states':['fJ'], 'probs' : [1.0]},\n",
    "                'mF':{'states':['rF', 'fF'], 'probs':[0.9, 0.1]},\n",
    "                'rA':{'states':['S', 'L'], 'probs': [0.7, 0.3]},\n",
    "                'rF':{'states':['S', 'L'], 'probs': [0.7, 0.3]},\n",
    "                'fA':{'states': ['L', 'D', 'W'], 'probs': [0.1, 0.1, 0.8]},\n",
    "                'fJ':{'states': ['L', 'D', 'W'], 'probs': [0.25, 0.5, 0.25]},\n",
    "                'fF':{'states': ['L', 'D', 'W'], 'probs': [0.98, 0.015, 0.005]}\n",
    "              }\n",
    "\n",
    "msg = {'S' : 'I am searching for enemy',\n",
    "       'mA': 'I found Alice',\n",
    "       'mJ': 'I found John',\n",
    "       'mF': 'I found Florence',\n",
    "       'rA': 'I am running away',\n",
    "       'rF': 'I am running away',\n",
    "       'fA': 'I fight against Alice',\n",
    "       'fJ': 'I fight against John',\n",
    "       'fF': 'I fight against Florence',\n",
    "       'W' : 'I won',\n",
    "       'L' : 'I lost',\n",
    "       'D' : 'We drew'  \n",
    "      }\n",
    "a = int(input(\" Please enter the number of simulation : \"))\n",
    "q = q_0\n",
    "while a>0 and q != 'L' :\n",
    "    print('=' * 80)\n",
    "    print(\"Simulation\" )\n",
    "    a -= 1\n",
    "    q = q_0\n",
    "    print(msg[q])\n",
    "    while q not in A:\n",
    "        q = random.choices(transitions[q]['states'], transitions[q]['probs'])[0]\n",
    "        print(msg[q])"
   ]
  },
  {
   "cell_type": "code",
   "execution_count": null,
   "metadata": {},
   "outputs": [],
   "source": []
  },
  {
   "cell_type": "code",
   "execution_count": null,
   "metadata": {},
   "outputs": [],
   "source": []
  }
 ],
 "metadata": {
  "kernelspec": {
   "display_name": "Python 3",
   "language": "python",
   "name": "python3"
  },
  "language_info": {
   "codemirror_mode": {
    "name": "ipython",
    "version": 3
   },
   "file_extension": ".py",
   "mimetype": "text/x-python",
   "name": "python",
   "nbconvert_exporter": "python",
   "pygments_lexer": "ipython3",
   "version": "3.7.6"
  }
 },
 "nbformat": 4,
 "nbformat_minor": 4
}
